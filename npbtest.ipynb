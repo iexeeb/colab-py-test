{
  "nbformat": 4,
  "nbformat_minor": 0,
  "metadata": {
    "colab": {
      "provenance": [],
      "toc_visible": true,
      "authorship_tag": "ABX9TyNZiI0MB7zeorgGCGYbUh5t",
      "include_colab_link": true
    },
    "kernelspec": {
      "name": "python3",
      "display_name": "Python 3"
    },
    "language_info": {
      "name": "python"
    }
  },
  "cells": [
    {
      "cell_type": "markdown",
      "metadata": {
        "id": "view-in-github",
        "colab_type": "text"
      },
      "source": [
        "<a href=\"https://colab.research.google.com/github/iexeeb/colab-py-test/blob/main/npbtest.ipynb\" target=\"_parent\"><img src=\"https://colab.research.google.com/assets/colab-badge.svg\" alt=\"Open In Colab\"/></a>"
      ]
    },
    {
      "cell_type": "markdown",
      "source": [
        "スポナビから野球の試合結果を取得する"
      ],
      "metadata": {
        "id": "2x4LLP_6aLiH"
      }
    },
    {
      "cell_type": "code",
      "execution_count": null,
      "metadata": {
        "colab": {
          "base_uri": "https://localhost:8080/"
        },
        "id": "L0uO42m8ZoFK",
        "outputId": "9db59fac-91fd-4323-f8b9-646d97d00fd3"
      },
      "outputs": [
        {
          "output_type": "stream",
          "name": "stdout",
          "text": [
            "【セ・リーグ】\n",
            "1位ヤクルト　　優勝\n",
            "2位DeNA　　.522\n",
            "3位阪神　　　　3\n",
            "4位巨人　　　　71\n",
            "5位広島　　　　66\n",
            "6位中日　　　　142\n",
            "【パ・リーグ】\n",
            "1位ソフトバンク\n",
            "ソフトバンク\n",
            "\n",
            "2位オリックス　2\n",
            "3位西武　　　　75\n",
            "4位楽天　　　　2.76\n",
            "5位ロッテ　　　.243\n",
            "6位日本ハム　　132\n",
            "\n",
            "見どころDeNA --- 西武\n",
            "見どころ巨人 --- ソフトバンク\n"
          ]
        }
      ],
      "source": [
        "import requests\n",
        "from bs4 import BeautifulSoup\n",
        "\n",
        "def rank():\n",
        "    url = 'https://baseball.yahoo.co.jp/npb/standings/'\n",
        "    r = requests.get(url)\n",
        "    soup = BeautifulSoup(r.text, 'html.parser')\n",
        "\n",
        "    teams = []\n",
        "    for team in soup.select('.bb-rankTable__team'):\n",
        "        teams += [team.text]\n",
        "\n",
        "    lis = []\n",
        "    for li in soup.select('.bb-rankTable__data--rank'):\n",
        "        lis += [li.text]\n",
        "\n",
        "    data = []\n",
        "    for a in soup.select('.bb-rankTable__data'):\n",
        "        data += [a.text]\n",
        "\n",
        "    magic = []\n",
        "    for i in range(12):\n",
        "        magic += [data[i*15 + 7]]\n",
        "\n",
        "    txt = '【セ・リーグ】'\n",
        "    for i in range(6):\n",
        "        txt = txt + '\\n' + lis[i] + '位' + teams[i].ljust(6, '　') + magic[i]\n",
        "\n",
        "    txt = txt + '\\n【パ・リーグ】'\n",
        "    for i in range(6,12):\n",
        "        txt = txt + '\\n' + lis[i] + '位' + teams[i].ljust(6, '　') + magic[i]\n",
        "    return(txt)\n",
        "\n",
        "def live():\n",
        "    url = 'http://baseball.yahoo.co.jp/npb/schedule/'\n",
        "    r = requests.get(url)\n",
        "    soup = BeautifulSoup(r.text, 'html.parser')\n",
        "\n",
        "    innings = []\n",
        "    for inning in soup.select('.bb-score__link'):\n",
        "        innings += [inning.text]\n",
        "\n",
        "    teams = []\n",
        "    for team in soup.select('.bb-score__homeLogo, .bb-score__awayLogo'):\n",
        "        teams += [team.text]\n",
        "\n",
        "    scores = []\n",
        "    for a in soup.select('.bb-score__detail'):\n",
        "        score = [b.text for b in a.select('.bb-score__score--left, .bb-score__score--right')]\n",
        "        if score:\n",
        "            scores += [score]\n",
        "        else:\n",
        "            scores += ['-', '-']\n",
        "\n",
        "    txt = ''\n",
        "    for i in range(len(innings)):\n",
        "        txt += '\\n' + innings[i].ljust(4, ' ') + teams[i * 2] + ' ' + scores[i * 2] + '-' + scores[i*2 + 1]+ ' ' + teams[i*2 + 1]\n",
        "    return(txt)\n",
        "\n",
        "print(rank())\n",
        "print(live())\n"
      ]
    },
    {
      "cell_type": "markdown",
      "source": [
        "マシンスペックを取得"
      ],
      "metadata": {
        "id": "qWG66eAhb2gp"
      }
    },
    {
      "cell_type": "code",
      "source": [
        "!cat /proc/cpuinfo"
      ],
      "metadata": {
        "id": "G2dp9JuEcBZW",
        "outputId": "4d61181a-acdd-4c9d-ac7f-e50e547cbbf9",
        "colab": {
          "base_uri": "https://localhost:8080/"
        }
      },
      "execution_count": null,
      "outputs": [
        {
          "output_type": "stream",
          "name": "stdout",
          "text": [
            "processor\t: 0\n",
            "vendor_id\t: GenuineIntel\n",
            "cpu family\t: 6\n",
            "model\t\t: 79\n",
            "model name\t: Intel(R) Xeon(R) CPU @ 2.20GHz\n",
            "stepping\t: 0\n",
            "microcode\t: 0x1\n",
            "cpu MHz\t\t: 2199.998\n",
            "cache size\t: 56320 KB\n",
            "physical id\t: 0\n",
            "siblings\t: 2\n",
            "core id\t\t: 0\n",
            "cpu cores\t: 1\n",
            "apicid\t\t: 0\n",
            "initial apicid\t: 0\n",
            "fpu\t\t: yes\n",
            "fpu_exception\t: yes\n",
            "cpuid level\t: 13\n",
            "wp\t\t: yes\n",
            "flags\t\t: fpu vme de pse tsc msr pae mce cx8 apic sep mtrr pge mca cmov pat pse36 clflush mmx fxsr sse sse2 ss ht syscall nx pdpe1gb rdtscp lm constant_tsc rep_good nopl xtopology nonstop_tsc cpuid tsc_known_freq pni pclmulqdq ssse3 fma cx16 pcid sse4_1 sse4_2 x2apic movbe popcnt aes xsave avx f16c rdrand hypervisor lahf_lm abm 3dnowprefetch invpcid_single ssbd ibrs ibpb stibp fsgsbase tsc_adjust bmi1 hle avx2 smep bmi2 erms invpcid rtm rdseed adx smap xsaveopt arat md_clear arch_capabilities\n",
            "bugs\t\t: cpu_meltdown spectre_v1 spectre_v2 spec_store_bypass l1tf mds swapgs taa mmio_stale_data retbleed\n",
            "bogomips\t: 4399.99\n",
            "clflush size\t: 64\n",
            "cache_alignment\t: 64\n",
            "address sizes\t: 46 bits physical, 48 bits virtual\n",
            "power management:\n",
            "\n",
            "processor\t: 1\n",
            "vendor_id\t: GenuineIntel\n",
            "cpu family\t: 6\n",
            "model\t\t: 79\n",
            "model name\t: Intel(R) Xeon(R) CPU @ 2.20GHz\n",
            "stepping\t: 0\n",
            "microcode\t: 0x1\n",
            "cpu MHz\t\t: 2199.998\n",
            "cache size\t: 56320 KB\n",
            "physical id\t: 0\n",
            "siblings\t: 2\n",
            "core id\t\t: 0\n",
            "cpu cores\t: 1\n",
            "apicid\t\t: 1\n",
            "initial apicid\t: 1\n",
            "fpu\t\t: yes\n",
            "fpu_exception\t: yes\n",
            "cpuid level\t: 13\n",
            "wp\t\t: yes\n",
            "flags\t\t: fpu vme de pse tsc msr pae mce cx8 apic sep mtrr pge mca cmov pat pse36 clflush mmx fxsr sse sse2 ss ht syscall nx pdpe1gb rdtscp lm constant_tsc rep_good nopl xtopology nonstop_tsc cpuid tsc_known_freq pni pclmulqdq ssse3 fma cx16 pcid sse4_1 sse4_2 x2apic movbe popcnt aes xsave avx f16c rdrand hypervisor lahf_lm abm 3dnowprefetch invpcid_single ssbd ibrs ibpb stibp fsgsbase tsc_adjust bmi1 hle avx2 smep bmi2 erms invpcid rtm rdseed adx smap xsaveopt arat md_clear arch_capabilities\n",
            "bugs\t\t: cpu_meltdown spectre_v1 spectre_v2 spec_store_bypass l1tf mds swapgs taa mmio_stale_data retbleed\n",
            "bogomips\t: 4399.99\n",
            "clflush size\t: 64\n",
            "cache_alignment\t: 64\n",
            "address sizes\t: 46 bits physical, 48 bits virtual\n",
            "power management:\n",
            "\n"
          ]
        }
      ]
    }
  ]
}